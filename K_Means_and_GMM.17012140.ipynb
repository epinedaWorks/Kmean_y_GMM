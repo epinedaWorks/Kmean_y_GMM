{
 "cells": [
  {
   "cell_type": "markdown",
   "metadata": {},
   "source": [
    "## Uso de los algoritmos de Clustering: K Means y GMM\n",
    "\n",
    "Correo de contacto: epineda.amezquita@gmail.com  \n",
    "github: https://github.com/epinedaWorks/\n",
    "\n",
    "Los ejercicios realizados en este notebook son de uso público, se hace la aclaración que el aprendizaje y conocimiento obtenido radica en diversas fuentes, asimismo, la experiencia del autor en desarrollo de software. \n",
    "\n",
    "Las imagenes de ejemplo se encuentran en el directorio \"img\", se hace referencia por medio de **./img/**    \n",
    "\n",
    "\n",
    "Descripción:  \n",
    "![Enunciado.JPG](img/Enunciado.JPG)  \n",
    "\n",
    "\n",
    "Se importan las librerías principales: \n"
   ]
  },
  {
   "cell_type": "code",
   "execution_count": 1,
   "metadata": {},
   "outputs": [],
   "source": [
    "import numpy as np\n",
    "import pandas as pd\n",
    "import matplotlib.pyplot as plt\n",
    "\n",
    "from tensorflow import keras"
   ]
  },
  {
   "cell_type": "markdown",
   "metadata": {},
   "source": [
    "Se cargan los datos del archivo estaturas:"
   ]
  },
  {
   "cell_type": "code",
   "execution_count": 2,
   "metadata": {},
   "outputs": [
    {
     "name": "stdout",
     "output_type": "stream",
     "text": [
      "    Estatura(metros)  Edad(años)\n",
      "0               1.77          26\n",
      "1               1.74          31\n",
      "2               1.72          24\n",
      "3               1.78          34\n",
      "4               1.65          32\n",
      "5               1.66          29\n",
      "6               1.64          27\n",
      "7               1.85          34\n",
      "8               1.85          26\n",
      "9               1.75          21\n",
      "10              1.73          23\n",
      "11              1.79          25\n",
      "12              1.82          24\n",
      "13              1.65          25\n",
      "14              1.79          25\n",
      "15              1.72          34\n",
      "16              1.70          26\n",
      "17              1.57          25\n",
      "18              1.66          26\n",
      "19              1.75          27\n",
      "20              1.77          32\n",
      "21              1.80          40\n",
      "22              1.85          25\n",
      "23              1.82          24\n",
      "24              1.75          38\n",
      "25              1.73          34\n",
      "26              1.55          29\n",
      "27              1.76          28\n",
      "28              1.68          27\n"
     ]
    }
   ],
   "source": [
    "path='./data/estaturas.xlsx'\n",
    "#dfVinos = pd.read_csv(path)\n",
    "\n",
    "dataEstatura = pd.read_excel(path)\n",
    "\n",
    "print (dataEstatura)\n",
    "\n",
    "### Creacion de variables globales\n",
    "estaturaMinima=0\n",
    "estaturaMaxima=0\n",
    "edadMinima=0\n",
    "edadMaxima=0"
   ]
  },
  {
   "cell_type": "markdown",
   "metadata": {},
   "source": [
    "Programando el algoritmo desde cero, sin Sklearn tomar en cuenta que el valor de K se va a ingresar por parámtetro."
   ]
  },
  {
   "cell_type": "code",
   "execution_count": 3,
   "metadata": {},
   "outputs": [
    {
     "name": "stdout",
     "output_type": "stream",
     "text": [
      "estaturaMinima:  1.55\n",
      "estaturaMaxima:  1.85\n",
      "edadMinima:  21\n",
      "edadMaxima:  40\n"
     ]
    }
   ],
   "source": [
    "np.random.seed(1500)  ## Se define un valor random estatico\n",
    "\n",
    "def calcularValoresMinimosMaximos(dataSetGeneral):\n",
    "    \n",
    "    global estaturaMinima\n",
    "    global estaturaMaxima\n",
    "    global edadMinima\n",
    "    global edadMaxima\n",
    "    \n",
    "    estaturaMinima=np.min(dataSetGeneral.loc[:,'Estatura(metros)'])\n",
    "    estaturaMaxima=np.max(dataSetGeneral.loc[:,'Estatura(metros)'])\n",
    "\n",
    "    edadMinima=np.min(dataSetGeneral.loc[:,'Edad(años)'])\n",
    "    edadMaxima=np.max(dataSetGeneral.loc[:,'Edad(años)'])\n",
    "    \n",
    "    print('estaturaMinima: ',estaturaMinima)\n",
    "    print('estaturaMaxima: ',estaturaMaxima)\n",
    "    print('edadMinima: ',edadMinima)\n",
    "    print('edadMaxima: ',edadMaxima)\n",
    "\n",
    "    \n",
    "\n",
    "calcularValoresMinimosMaximos(dataEstatura)\n"
   ]
  },
  {
   "cell_type": "markdown",
   "metadata": {},
   "source": [
    "#### Selección de centroides:  \n",
    "\n",
    "Se usa un metodo random entre el valor mínimo y el máximo de cada variable o columna del dataset"
   ]
  },
  {
   "cell_type": "code",
   "execution_count": 4,
   "metadata": {},
   "outputs": [],
   "source": [
    "def encontrarCentroides(K=2):\n",
    "    mu=[]\n",
    "    ## ojo, se deja la opción for por si en caso se agregan mas variables\n",
    "    for i in range(0,K):\n",
    "        centroideEstatura=np.random.uniform(estaturaMinima,estaturaMaxima)\n",
    "        centroideEdad=np.random.randint(edadMinima,edadMaxima)\n",
    "\n",
    "        mu.append([centroideEstatura,centroideEdad])\n",
    "    \n",
    "    #Se crea una matriz de ceros con el dataset de origen\n",
    "    ##Servirá para asignar a cada elemento un posible cluster\n",
    "    r=np.zeros(dataEstatura.shape[0]*K).reshape(dataEstatura.shape[0],K)\n",
    "    \n",
    "    return mu, r"
   ]
  },
  {
   "cell_type": "markdown",
   "metadata": {},
   "source": [
    "Observar que se tienen 2 puntos con sus coordenas x,y, ambos representan los 2 centroides de la cantidad de K agrupaciones elegidas, en este caso, viene por [estatura, edad]\n"
   ]
  },
  {
   "cell_type": "code",
   "execution_count": 5,
   "metadata": {},
   "outputs": [],
   "source": [
    "def KMeans(K=2):\n",
    "    mu=encontrarCentroides(K)[0]\n",
    "    r=encontrarCentroides(K)[1]\n",
    "    \n",
    "    plot_counter=0\n",
    "    J_plot=[]\n",
    "    for i in range(1,10): #Maximo de 10 iteraciones\n",
    "        J=0 #Funcion de error, costo o distorsión\n",
    "\n",
    "        #Sumatoria de valores\n",
    "        for n in range(0,dataEstatura.shape[0]): \n",
    "            x=np.array(dataEstatura.iloc[n,0:])\n",
    "            mins=[]\n",
    "\n",
    "            for k in range(0,K):\n",
    "                distance=np.linalg.norm(x-mu[k])# Distancia Euclidiana\n",
    "                mins.append(distance**2) #Agregar cada una de las distancias\n",
    "\n",
    "            k_r=np.argmin(np.array(mins))#Indice con el valor minimo\n",
    "            r[n,k_r]=1 \n",
    "\n",
    "        #Calculo de la Distorsión, servirá para graficar\n",
    "        for n in range(0,dataEstatura.shape[0]):\n",
    "            for k in range(0,K):\n",
    "                distance=np.linalg.norm(x-mu[k])\n",
    "                J=r[n,k]*(distance**2)+J\n",
    "        J_plot.append(J)\n",
    "\n",
    "        #Actualización de centroides\n",
    "        for k in range(0,K):\n",
    "            count_1,count_2=0,0\n",
    "            for n in range(0,dataEstatura.shape[0]):\n",
    "                x=np.array(dataEstatura.iloc[n,0:])\n",
    "                count_1=r[n,k]*x+count_1\n",
    "                count_2=r[n,k]+count_2\n",
    "            mu[k]=count_1/count_2\n",
    "\n",
    "        print(J)\n",
    "        #Salir cuando la diferencia sea muy poca\n",
    "        if i>1 and abs(J-J_prev)<0.5:\n",
    "            break\n",
    "        J_prev=J\n",
    "        plot_counter=1+plot_counter\n",
    "        #Vector de ceros en uso\n",
    "        r=np.zeros(dataEstatura.shape[0]*K).reshape(dataEstatura.shape[0],K)\n",
    "        \n",
    "        \n",
    "    plt.plot(J_plot,linestyle='-', marker='o',color='green')\n",
    "    plt.ylabel('J: Medida del error o distorción')\n",
    "    plt.xlabel('Iteración')\n",
    "    plt.show()\n",
    "        \n",
    "    return mu, r, J_plot"
   ]
  },
  {
   "cell_type": "markdown",
   "metadata": {},
   "source": [
    "Prueba de Kmeans con K=2"
   ]
  },
  {
   "cell_type": "code",
   "execution_count": 6,
   "metadata": {},
   "outputs": [
    {
     "name": "stdout",
     "output_type": "stream",
     "text": [
      "473.7561396218757\n",
      "239.35960510204086\n",
      "286.9116347500001\n",
      "346.5613796235829\n",
      "427.7621568819512\n",
      "523.2912827777782\n",
      "523.2912827777782\n"
     ]
    },
    {
     "data": {
      "image/png": "[encoded data removed]",
      "text/plain": [
       "<Figure size 432x288 with 1 Axes>"
      ]
     },
     "metadata": {
      "needs_background": "light"
     },
     "output_type": "display_data"
    }
   ],
   "source": [
    "kmean2=KMeans(2)"
   ]
  },
  {
   "cell_type": "markdown",
   "metadata": {},
   "source": [
    "Función para graficar centroides y sus correspondientes puntos dispersos:"
   ]
  },
  {
   "cell_type": "code",
   "execution_count": 7,
   "metadata": {},
   "outputs": [],
   "source": [
    "def graficarCentroidesYpuntosDispersos(modelo):    \n",
    "    x=dataEstatura['Edad(años)'],\n",
    "    y=dataEstatura['Estatura(metros)']\n",
    "    mu=pd.DataFrame(modelo[0]) ## la posición 0 devuelve mu \n",
    "    \n",
    "    plt.scatter(x,y,marker='.')\n",
    "    plt.scatter(mu[1],mu[0],s=100,marker='x',color='red')\n",
    "    plt.show()"
   ]
  },
  {
   "cell_type": "code",
   "execution_count": 8,
   "metadata": {},
   "outputs": [
    {
     "name": "stdout",
     "output_type": "stream",
     "text": [
      "2429.0297104066594\n",
      "870.29892133059\n",
      "608.7789445704678\n",
      "566.7799467439061\n",
      "523.2912827777782\n",
      "523.2912827777782\n"
     ]
    },
    {
     "data": {
      "image/png": "[encoded data removed]",
      "text/plain": [
       "<Figure size 432x288 with 1 Axes>"
      ]
     },
     "metadata": {
      "needs_background": "light"
     },
     "output_type": "display_data"
    },
    {
     "data": {
      "image/png": "[encoded data removed]",
      "text/plain": [
       "<Figure size 432x288 with 1 Axes>"
      ]
     },
     "metadata": {
      "needs_background": "light"
     },
     "output_type": "display_data"
    }
   ],
   "source": [
    "graficarCentroidesYpuntosDispersos(KMeans(2))"
   ]
  },
  {
   "cell_type": "code",
   "execution_count": 9,
   "metadata": {},
   "outputs": [
    {
     "data": {
      "text/html": [
       "<div>\n",
       "<style scoped>\n",
       "    .dataframe tbody tr th:only-of-type {\n",
       "        vertical-align: middle;\n",
       "    }\n",
       "\n",
       "    .dataframe tbody tr th {\n",
       "        vertical-align: top;\n",
       "    }\n",
       "\n",
       "    .dataframe thead th {\n",
       "        text-align: right;\n",
       "    }\n",
       "</style>\n",
       "<table border=\"1\" class=\"dataframe\">\n",
       "  <thead>\n",
       "    <tr style=\"text-align: right;\">\n",
       "      <th></th>\n",
       "      <th>Estatura(metros)</th>\n",
       "      <th>Edad(años)</th>\n",
       "    </tr>\n",
       "  </thead>\n",
       "  <tbody>\n",
       "    <tr>\n",
       "      <th>0</th>\n",
       "      <td>1.77</td>\n",
       "      <td>26</td>\n",
       "    </tr>\n",
       "    <tr>\n",
       "      <th>1</th>\n",
       "      <td>1.74</td>\n",
       "      <td>31</td>\n",
       "    </tr>\n",
       "    <tr>\n",
       "      <th>2</th>\n",
       "      <td>1.72</td>\n",
       "      <td>24</td>\n",
       "    </tr>\n",
       "    <tr>\n",
       "      <th>3</th>\n",
       "      <td>1.78</td>\n",
       "      <td>34</td>\n",
       "    </tr>\n",
       "    <tr>\n",
       "      <th>4</th>\n",
       "      <td>1.65</td>\n",
       "      <td>32</td>\n",
       "    </tr>\n",
       "    <tr>\n",
       "      <th>5</th>\n",
       "      <td>1.66</td>\n",
       "      <td>29</td>\n",
       "    </tr>\n",
       "    <tr>\n",
       "      <th>6</th>\n",
       "      <td>1.64</td>\n",
       "      <td>27</td>\n",
       "    </tr>\n",
       "    <tr>\n",
       "      <th>7</th>\n",
       "      <td>1.85</td>\n",
       "      <td>34</td>\n",
       "    </tr>\n",
       "    <tr>\n",
       "      <th>8</th>\n",
       "      <td>1.85</td>\n",
       "      <td>26</td>\n",
       "    </tr>\n",
       "    <tr>\n",
       "      <th>9</th>\n",
       "      <td>1.75</td>\n",
       "      <td>21</td>\n",
       "    </tr>\n",
       "    <tr>\n",
       "      <th>10</th>\n",
       "      <td>1.73</td>\n",
       "      <td>23</td>\n",
       "    </tr>\n",
       "    <tr>\n",
       "      <th>11</th>\n",
       "      <td>1.79</td>\n",
       "      <td>25</td>\n",
       "    </tr>\n",
       "    <tr>\n",
       "      <th>12</th>\n",
       "      <td>1.82</td>\n",
       "      <td>24</td>\n",
       "    </tr>\n",
       "    <tr>\n",
       "      <th>13</th>\n",
       "      <td>1.65</td>\n",
       "      <td>25</td>\n",
       "    </tr>\n",
       "    <tr>\n",
       "      <th>14</th>\n",
       "      <td>1.79</td>\n",
       "      <td>25</td>\n",
       "    </tr>\n",
       "    <tr>\n",
       "      <th>15</th>\n",
       "      <td>1.72</td>\n",
       "      <td>34</td>\n",
       "    </tr>\n",
       "    <tr>\n",
       "      <th>16</th>\n",
       "      <td>1.70</td>\n",
       "      <td>26</td>\n",
       "    </tr>\n",
       "    <tr>\n",
       "      <th>17</th>\n",
       "      <td>1.57</td>\n",
       "      <td>25</td>\n",
       "    </tr>\n",
       "    <tr>\n",
       "      <th>18</th>\n",
       "      <td>1.66</td>\n",
       "      <td>26</td>\n",
       "    </tr>\n",
       "    <tr>\n",
       "      <th>19</th>\n",
       "      <td>1.75</td>\n",
       "      <td>27</td>\n",
       "    </tr>\n",
       "    <tr>\n",
       "      <th>20</th>\n",
       "      <td>1.77</td>\n",
       "      <td>32</td>\n",
       "    </tr>\n",
       "    <tr>\n",
       "      <th>21</th>\n",
       "      <td>1.80</td>\n",
       "      <td>40</td>\n",
       "    </tr>\n",
       "    <tr>\n",
       "      <th>22</th>\n",
       "      <td>1.85</td>\n",
       "      <td>25</td>\n",
       "    </tr>\n",
       "    <tr>\n",
       "      <th>23</th>\n",
       "      <td>1.82</td>\n",
       "      <td>24</td>\n",
       "    </tr>\n",
       "    <tr>\n",
       "      <th>24</th>\n",
       "      <td>1.75</td>\n",
       "      <td>38</td>\n",
       "    </tr>\n",
       "    <tr>\n",
       "      <th>25</th>\n",
       "      <td>1.73</td>\n",
       "      <td>34</td>\n",
       "    </tr>\n",
       "    <tr>\n",
       "      <th>26</th>\n",
       "      <td>1.55</td>\n",
       "      <td>29</td>\n",
       "    </tr>\n",
       "    <tr>\n",
       "      <th>27</th>\n",
       "      <td>1.76</td>\n",
       "      <td>28</td>\n",
       "    </tr>\n",
       "    <tr>\n",
       "      <th>28</th>\n",
       "      <td>1.68</td>\n",
       "      <td>27</td>\n",
       "    </tr>\n",
       "  </tbody>\n",
       "</table>\n",
       "</div>"
      ],
      "text/plain": [
       "    Estatura(metros)  Edad(años)\n",
       "0               1.77          26\n",
       "1               1.74          31\n",
       "2               1.72          24\n",
       "3               1.78          34\n",
       "4               1.65          32\n",
       "5               1.66          29\n",
       "6               1.64          27\n",
       "7               1.85          34\n",
       "8               1.85          26\n",
       "9               1.75          21\n",
       "10              1.73          23\n",
       "11              1.79          25\n",
       "12              1.82          24\n",
       "13              1.65          25\n",
       "14              1.79          25\n",
       "15              1.72          34\n",
       "16              1.70          26\n",
       "17              1.57          25\n",
       "18              1.66          26\n",
       "19              1.75          27\n",
       "20              1.77          32\n",
       "21              1.80          40\n",
       "22              1.85          25\n",
       "23              1.82          24\n",
       "24              1.75          38\n",
       "25              1.73          34\n",
       "26              1.55          29\n",
       "27              1.76          28\n",
       "28              1.68          27"
      ]
     },
     "execution_count": 9,
     "metadata": {},
     "output_type": "execute_result"
    }
   ],
   "source": [
    "dataEstatura#[2]=2"
   ]
  },
  {
   "cell_type": "code",
   "execution_count": 10,
   "metadata": {},
   "outputs": [],
   "source": [
    "def graficarCentroidesYpuntosDispersosAgrupados(modelo):    \n",
    "    dataEstaturaCopy=dataEstatura.copy()\n",
    "    x=dataEstaturaCopy['Edad(años)'],\n",
    "    y=dataEstaturaCopy['Estatura(metros)']\n",
    "    mu=pd.DataFrame(modelo[0]) ## la posición 0 devuelve mu \n",
    "    r=modelo[1]   ## la posición 1 devuelve r del modelo\n",
    "    \n",
    "    ## Se crear una columna o un arreglo de nx1 para obtener la categoria\n",
    "    columnaDeCluster=[]\n",
    "    for row in r:\n",
    "        columnaDeCluster.append(np.argmax(row)+1)\n",
    "    \n",
    "    ## Concatenar nueva columna con los tipos de cluster identificados a la par de las observaciones\n",
    "    dataEstaturaCopy['Tipo']=columnaDeCluster\n",
    "    \n",
    "    #plt.scatter(x,y,c=dataEstaturaCopy[2],marker='.')\n",
    "    plt.scatter(x,y,c=columnaDeCluster,marker='.')\n",
    "    plt.scatter(mu[1],mu[0],s=100,marker='x',color='red')\n",
    "    plt.show()\n",
    "    print(\"======================== Categorias identificadas ======================== \")\n",
    "    print(\"\")\n",
    "    print(dataEstaturaCopy)\n",
    "    print(\"\")\n",
    "    print(\"========================================================================== \")"
   ]
  },
  {
   "cell_type": "code",
   "execution_count": 11,
   "metadata": {},
   "outputs": [
    {
     "name": "stdout",
     "output_type": "stream",
     "text": [
      "1052.646320110274\n",
      "566.7799467439061\n",
      "523.2912827777782\n",
      "523.2912827777782\n"
     ]
    },
    {
     "data": {
      "image/png": "[encoded data removed]",
      "text/plain": [
       "<Figure size 432x288 with 1 Axes>"
      ]
     },
     "metadata": {
      "needs_background": "light"
     },
     "output_type": "display_data"
    },
    {
     "data": {
      "image/png": "[encoded data removed]",
      "text/plain": [
       "<Figure size 432x288 with 1 Axes>"
      ]
     },
     "metadata": {
      "needs_background": "light"
     },
     "output_type": "display_data"
    },
    {
     "name": "stdout",
     "output_type": "stream",
     "text": [
      "======================== Categorias identificadas ======================== \n",
      "\n",
      "    Estatura(metros)  Edad(años)  Tipo\n",
      "0               1.77          26     1\n",
      "1               1.74          31     2\n",
      "2               1.72          24     1\n",
      "3               1.78          34     2\n",
      "4               1.65          32     2\n",
      "5               1.66          29     1\n",
      "6               1.64          27     1\n",
      "7               1.85          34     2\n",
      "8               1.85          26     1\n",
      "9               1.75          21     1\n",
      "10              1.73          23     1\n",
      "11              1.79          25     1\n",
      "12              1.82          24     1\n",
      "13              1.65          25     1\n",
      "14              1.79          25     1\n",
      "15              1.72          34     2\n",
      "16              1.70          26     1\n",
      "17              1.57          25     1\n",
      "18              1.66          26     1\n",
      "19              1.75          27     1\n",
      "20              1.77          32     2\n",
      "21              1.80          40     2\n",
      "22              1.85          25     1\n",
      "23              1.82          24     1\n",
      "24              1.75          38     2\n",
      "25              1.73          34     2\n",
      "26              1.55          29     1\n",
      "27              1.76          28     1\n",
      "28              1.68          27     1\n",
      "\n",
      "========================================================================== \n"
     ]
    }
   ],
   "source": [
    "graficarCentroidesYpuntosDispersosAgrupados(KMeans(2))"
   ]
  },
  {
   "cell_type": "markdown",
   "metadata": {},
   "source": [
    "# Evaluar con K=1,2,3,4,5\n",
    "Se agregan los nuevos datos al dataset\n"
   ]
  },
  {
   "cell_type": "code",
   "execution_count": 12,
   "metadata": {},
   "outputs": [
    {
     "name": "stdout",
     "output_type": "stream",
     "text": [
      "   Estatura(metros)  Edad(años)\n",
      "0              1.77          26\n",
      "1              1.74          31\n",
      "2              1.72          24\n",
      "3              1.78          34\n",
      "4              1.65          32\n",
      "\n",
      "Valores Max/Min: \n",
      "\n",
      "estaturaMinima:  1.55\n",
      "estaturaMaxima:  1.85\n",
      "edadMinima:  21\n",
      "edadMaxima:  40\n",
      " \n",
      "Shape:  (37, 2)\n",
      "Size:  74\n"
     ]
    }
   ],
   "source": [
    "dataEstaturaMasValores = pd.read_excel(open(path, 'rb'),\n",
    "              sheet_name='valtest(normales)') \n",
    "\n",
    "dataSetTotal = pd.concat([dataEstatura, dataEstaturaMasValores])\n",
    "\n",
    "print(dataSetTotal.head())\n",
    "print(\"\\nValores Max/Min: \\n\")\n",
    "calcularValoresMinimosMaximos(dataSetTotal)\n",
    "print(\" \\nShape: \", dataSetTotal.shape)\n",
    "print(\"Size: \", dataSetTotal.size)\n",
    "\n"
   ]
  },
  {
   "cell_type": "markdown",
   "metadata": {},
   "source": [
    "Cambiar el nombre al dataset general que tienen todos los metodos antes definidos"
   ]
  },
  {
   "cell_type": "code",
   "execution_count": 13,
   "metadata": {},
   "outputs": [],
   "source": [
    "dataEstatura=dataSetTotal.copy()"
   ]
  },
  {
   "cell_type": "markdown",
   "metadata": {},
   "source": [
    "# K=1, con los valores de la hoja 2 del Excel"
   ]
  },
  {
   "cell_type": "code",
   "execution_count": 14,
   "metadata": {},
   "outputs": [
    {
     "name": "stdout",
     "output_type": "stream",
     "text": [
      "333.05194950933515\n",
      "191.2573216216215\n",
      "191.2573216216215\n"
     ]
    },
    {
     "data": {
      "image/png": "[encoded data removed]",
      "text/plain": [
       "<Figure size 432x288 with 1 Axes>"
      ]
     },
     "metadata": {
      "needs_background": "light"
     },
     "output_type": "display_data"
    },
    {
     "data": {
      "image/png": "[encoded data removed]",
      "text/plain": [
       "<Figure size 432x288 with 1 Axes>"
      ]
     },
     "metadata": {
      "needs_background": "light"
     },
     "output_type": "display_data"
    },
    {
     "name": "stdout",
     "output_type": "stream",
     "text": [
      "======================== Categorias identificadas ======================== \n",
      "\n",
      "    Estatura(metros)  Edad(años)  Tipo\n",
      "0               1.77          26     1\n",
      "1               1.74          31     1\n",
      "2               1.72          24     1\n",
      "3               1.78          34     1\n",
      "4               1.65          32     1\n",
      "5               1.66          29     1\n",
      "6               1.64          27     1\n",
      "7               1.85          34     1\n",
      "8               1.85          26     1\n",
      "9               1.75          21     1\n",
      "10              1.73          23     1\n",
      "11              1.79          25     1\n",
      "12              1.82          24     1\n",
      "13              1.65          25     1\n",
      "14              1.79          25     1\n",
      "15              1.72          34     1\n",
      "16              1.70          26     1\n",
      "17              1.57          25     1\n",
      "18              1.66          26     1\n",
      "19              1.75          27     1\n",
      "20              1.77          32     1\n",
      "21              1.80          40     1\n",
      "22              1.85          25     1\n",
      "23              1.82          24     1\n",
      "24              1.75          38     1\n",
      "25              1.73          34     1\n",
      "26              1.55          29     1\n",
      "27              1.76          28     1\n",
      "28              1.68          27     1\n",
      "0               1.82          25     1\n",
      "1               1.80          27     1\n",
      "2               1.60          31     1\n",
      "3               1.60          35     1\n",
      "4               1.82          30     1\n",
      "5               1.76          32     1\n",
      "6               1.79          31     1\n",
      "7               1.61          31     1\n",
      "\n",
      "========================================================================== \n"
     ]
    }
   ],
   "source": [
    "graficarCentroidesYpuntosDispersosAgrupados(KMeans(1))"
   ]
  },
  {
   "cell_type": "markdown",
   "metadata": {},
   "source": [
    "# K=2, con los valores de la hoja 2 del Excel"
   ]
  },
  {
   "cell_type": "code",
   "execution_count": 15,
   "metadata": {},
   "outputs": [
    {
     "name": "stdout",
     "output_type": "stream",
     "text": [
      "248.20445446031476\n",
      "762.0697545605535\n",
      "710.5304069696967\n",
      "710.5304069696967\n"
     ]
    },
    {
     "data": {
      "image/png": "[encoded data removed]",
      "text/plain": [
       "<Figure size 432x288 with 1 Axes>"
      ]
     },
     "metadata": {
      "needs_background": "light"
     },
     "output_type": "display_data"
    },
    {
     "data": {
      "image/png": "[encoded data removed]",
      "text/plain": [
       "<Figure size 432x288 with 1 Axes>"
      ]
     },
     "metadata": {
      "needs_background": "light"
     },
     "output_type": "display_data"
    },
    {
     "name": "stdout",
     "output_type": "stream",
     "text": [
      "======================== Categorias identificadas ======================== \n",
      "\n",
      "    Estatura(metros)  Edad(años)  Tipo\n",
      "0               1.77          26     1\n",
      "1               1.74          31     2\n",
      "2               1.72          24     1\n",
      "3               1.78          34     2\n",
      "4               1.65          32     2\n",
      "5               1.66          29     1\n",
      "6               1.64          27     1\n",
      "7               1.85          34     2\n",
      "8               1.85          26     1\n",
      "9               1.75          21     1\n",
      "10              1.73          23     1\n",
      "11              1.79          25     1\n",
      "12              1.82          24     1\n",
      "13              1.65          25     1\n",
      "14              1.79          25     1\n",
      "15              1.72          34     2\n",
      "16              1.70          26     1\n",
      "17              1.57          25     1\n",
      "18              1.66          26     1\n",
      "19              1.75          27     1\n",
      "20              1.77          32     2\n",
      "21              1.80          40     2\n",
      "22              1.85          25     1\n",
      "23              1.82          24     1\n",
      "24              1.75          38     2\n",
      "25              1.73          34     2\n",
      "26              1.55          29     1\n",
      "27              1.76          28     1\n",
      "28              1.68          27     1\n",
      "0               1.82          25     1\n",
      "1               1.80          27     1\n",
      "2               1.60          31     2\n",
      "3               1.60          35     2\n",
      "4               1.82          30     2\n",
      "5               1.76          32     2\n",
      "6               1.79          31     2\n",
      "7               1.61          31     2\n",
      "\n",
      "========================================================================== \n"
     ]
    }
   ],
   "source": [
    "graficarCentroidesYpuntosDispersosAgrupados(KMeans(2))"
   ]
  },
  {
   "cell_type": "markdown",
   "metadata": {},
   "source": [
    "# K=3, con los valores de la hoja 2 del Excel"
   ]
  },
  {
   "cell_type": "code",
   "execution_count": 16,
   "metadata": {},
   "outputs": [
    {
     "name": "stdout",
     "output_type": "stream",
     "text": [
      "645.195794327295\n",
      "722.8333099616291\n",
      "797.0595414285714\n",
      "797.0595414285714\n"
     ]
    },
    {
     "data": {
      "image/png": "[encoded data removed]",
      "text/plain": [
       "<Figure size 432x288 with 1 Axes>"
      ]
     },
     "metadata": {
      "needs_background": "light"
     },
     "output_type": "display_data"
    },
    {
     "data": {
      "image/png": "[encoded data removed]",
      "text/plain": [
       "<Figure size 432x288 with 1 Axes>"
      ]
     },
     "metadata": {
      "needs_background": "light"
     },
     "output_type": "display_data"
    },
    {
     "name": "stdout",
     "output_type": "stream",
     "text": [
      "======================== Categorias identificadas ======================== \n",
      "\n",
      "    Estatura(metros)  Edad(años)  Tipo\n",
      "0               1.77          26     2\n",
      "1               1.74          31     3\n",
      "2               1.72          24     2\n",
      "3               1.78          34     1\n",
      "4               1.65          32     3\n",
      "5               1.66          29     3\n",
      "6               1.64          27     2\n",
      "7               1.85          34     1\n",
      "8               1.85          26     2\n",
      "9               1.75          21     2\n",
      "10              1.73          23     2\n",
      "11              1.79          25     2\n",
      "12              1.82          24     2\n",
      "13              1.65          25     2\n",
      "14              1.79          25     2\n",
      "15              1.72          34     1\n",
      "16              1.70          26     2\n",
      "17              1.57          25     2\n",
      "18              1.66          26     2\n",
      "19              1.75          27     2\n",
      "20              1.77          32     3\n",
      "21              1.80          40     1\n",
      "22              1.85          25     2\n",
      "23              1.82          24     2\n",
      "24              1.75          38     1\n",
      "25              1.73          34     1\n",
      "26              1.55          29     3\n",
      "27              1.76          28     2\n",
      "28              1.68          27     2\n",
      "0               1.82          25     2\n",
      "1               1.80          27     2\n",
      "2               1.60          31     3\n",
      "3               1.60          35     1\n",
      "4               1.82          30     3\n",
      "5               1.76          32     3\n",
      "6               1.79          31     3\n",
      "7               1.61          31     3\n",
      "\n",
      "========================================================================== \n"
     ]
    }
   ],
   "source": [
    "graficarCentroidesYpuntosDispersosAgrupados(KMeans(3))"
   ]
  },
  {
   "cell_type": "markdown",
   "metadata": {},
   "source": [
    "# K=4, con los valores de la hoja 2 del Excel"
   ]
  },
  {
   "cell_type": "code",
   "execution_count": 17,
   "metadata": {},
   "outputs": [
    {
     "name": "stdout",
     "output_type": "stream",
     "text": [
      "1498.5051073765787\n",
      "818.4718508487653\n",
      "830.5187768899523\n",
      "830.5187768899523\n"
     ]
    },
    {
     "data": {
      "image/png": "[encoded data removed]",
      "text/plain": [
       "<Figure size 432x288 with 1 Axes>"
      ]
     },
     "metadata": {
      "needs_background": "light"
     },
     "output_type": "display_data"
    },
    {
     "data": {
      "image/png": "[encoded data removed]",
      "text/plain": [
       "<Figure size 432x288 with 1 Axes>"
      ]
     },
     "metadata": {
      "needs_background": "light"
     },
     "output_type": "display_data"
    },
    {
     "name": "stdout",
     "output_type": "stream",
     "text": [
      "======================== Categorias identificadas ======================== \n",
      "\n",
      "    Estatura(metros)  Edad(años)  Tipo\n",
      "0               1.77          26     1\n",
      "1               1.74          31     3\n",
      "2               1.72          24     1\n",
      "3               1.78          34     2\n",
      "4               1.65          32     3\n",
      "5               1.66          29     3\n",
      "6               1.64          27     1\n",
      "7               1.85          34     2\n",
      "8               1.85          26     1\n",
      "9               1.75          21     1\n",
      "10              1.73          23     1\n",
      "11              1.79          25     1\n",
      "12              1.82          24     1\n",
      "13              1.65          25     1\n",
      "14              1.79          25     1\n",
      "15              1.72          34     2\n",
      "16              1.70          26     1\n",
      "17              1.57          25     1\n",
      "18              1.66          26     1\n",
      "19              1.75          27     1\n",
      "20              1.77          32     3\n",
      "21              1.80          40     4\n",
      "22              1.85          25     1\n",
      "23              1.82          24     1\n",
      "24              1.75          38     4\n",
      "25              1.73          34     2\n",
      "26              1.55          29     3\n",
      "27              1.76          28     3\n",
      "28              1.68          27     1\n",
      "0               1.82          25     1\n",
      "1               1.80          27     1\n",
      "2               1.60          31     3\n",
      "3               1.60          35     2\n",
      "4               1.82          30     3\n",
      "5               1.76          32     3\n",
      "6               1.79          31     3\n",
      "7               1.61          31     3\n",
      "\n",
      "========================================================================== \n"
     ]
    }
   ],
   "source": [
    "graficarCentroidesYpuntosDispersosAgrupados(KMeans(4))"
   ]
  },
  {
   "cell_type": "markdown",
   "metadata": {},
   "source": [
    "# K=5, con los valores de la hoja 2 del Excel"
   ]
  },
  {
   "cell_type": "code",
   "execution_count": 18,
   "metadata": {},
   "outputs": [
    {
     "name": "stdout",
     "output_type": "stream",
     "text": [
      "691.7386783068375\n",
      "799.9076241291885\n",
      "826.8312432848898\n",
      "857.6423842712845\n",
      "857.6423842712845\n"
     ]
    },
    {
     "data": {
      "image/png": "[encoded data removed]",
      "text/plain": [
       "<Figure size 432x288 with 1 Axes>"
      ]
     },
     "metadata": {
      "needs_background": "light"
     },
     "output_type": "display_data"
    },
    {
     "data": {
      "image/png": "[encoded data removed]",
      "text/plain": [
       "<Figure size 432x288 with 1 Axes>"
      ]
     },
     "metadata": {
      "needs_background": "light"
     },
     "output_type": "display_data"
    },
    {
     "name": "stdout",
     "output_type": "stream",
     "text": [
      "======================== Categorias identificadas ======================== \n",
      "\n",
      "    Estatura(metros)  Edad(años)  Tipo\n",
      "0               1.77          26     4\n",
      "1               1.74          31     5\n",
      "2               1.72          24     1\n",
      "3               1.78          34     3\n",
      "4               1.65          32     3\n",
      "5               1.66          29     5\n",
      "6               1.64          27     4\n",
      "7               1.85          34     3\n",
      "8               1.85          26     4\n",
      "9               1.75          21     1\n",
      "10              1.73          23     1\n",
      "11              1.79          25     1\n",
      "12              1.82          24     1\n",
      "13              1.65          25     1\n",
      "14              1.79          25     1\n",
      "15              1.72          34     3\n",
      "16              1.70          26     4\n",
      "17              1.57          25     1\n",
      "18              1.66          26     4\n",
      "19              1.75          27     4\n",
      "20              1.77          32     3\n",
      "21              1.80          40     2\n",
      "22              1.85          25     1\n",
      "23              1.82          24     1\n",
      "24              1.75          38     2\n",
      "25              1.73          34     3\n",
      "26              1.55          29     5\n",
      "27              1.76          28     4\n",
      "28              1.68          27     4\n",
      "0               1.82          25     1\n",
      "1               1.80          27     4\n",
      "2               1.60          31     5\n",
      "3               1.60          35     3\n",
      "4               1.82          30     5\n",
      "5               1.76          32     3\n",
      "6               1.79          31     5\n",
      "7               1.61          31     5\n",
      "\n",
      "========================================================================== \n"
     ]
    }
   ],
   "source": [
    "graficarCentroidesYpuntosDispersosAgrupados(KMeans(5))"
   ]
  },
  {
   "cell_type": "markdown",
   "metadata": {},
   "source": [
    "### Ojo:\n",
    "Observar que con K=5 ya no se tiene una buena clasificación"
   ]
  },
  {
   "cell_type": "markdown",
   "metadata": {},
   "source": [
    "# Metodo de GMM  \n",
    "\n",
    "Se importan las librerías que se van a utilizar, tomar en cuenta que para este caso sí está permitido usar Sklearn\n"
   ]
  },
  {
   "cell_type": "code",
   "execution_count": 19,
   "metadata": {},
   "outputs": [],
   "source": [
    "import itertools\n",
    "import matplotlib as mpl\n",
    "from scipy import linalg\n",
    "from sklearn import mixture"
   ]
  },
  {
   "cell_type": "code",
   "execution_count": 20,
   "metadata": {},
   "outputs": [],
   "source": [
    "#### GMM ###\n",
    "from sklearn.mixture import GaussianMixture\n",
    "\n",
    "def calcularGMM(K=2, data=dataEstatura):\n",
    "    \n",
    "    gmm = GaussianMixture(n_components=K)\n",
    "    gmm.fit(data)\n",
    "\n",
    "    #Predicciones usando GMM\n",
    "    labels = gmm.predict(data)\n",
    "    frame = pd.DataFrame(data)\n",
    "    frame['cluster'] = labels\n",
    "    frame.columns = ['Weight', 'Height', 'cluster']\n",
    "\n",
    "    color=['blue','green','cyan', 'black']\n",
    "    for k in range(0,K):\n",
    "        data = frame[frame[\"cluster\"]==k]\n",
    "        plt.scatter(data[\"Height\"],data[\"Weight\"],c=color[k])\n",
    "    plt.show()"
   ]
  },
  {
   "cell_type": "markdown",
   "metadata": {},
   "source": [
    "## Evaluando K=1 usando GMM"
   ]
  },
  {
   "cell_type": "code",
   "execution_count": 21,
   "metadata": {},
   "outputs": [
    {
     "data": {
      "image/png": "[encoded data removed]",
      "text/plain": [
       "<Figure size 432x288 with 1 Axes>"
      ]
     },
     "metadata": {
      "needs_background": "light"
     },
     "output_type": "display_data"
    }
   ],
   "source": [
    "calcularGMM(1)"
   ]
  },
  {
   "cell_type": "markdown",
   "metadata": {},
   "source": [
    "## Evaluando K=2 usando GMM"
   ]
  },
  {
   "cell_type": "code",
   "execution_count": 22,
   "metadata": {},
   "outputs": [
    {
     "data": {
      "image/png": "[encoded data removed]",
      "text/plain": [
       "<Figure size 432x288 with 1 Axes>"
      ]
     },
     "metadata": {
      "needs_background": "light"
     },
     "output_type": "display_data"
    }
   ],
   "source": [
    "calcularGMM(2)"
   ]
  },
  {
   "cell_type": "markdown",
   "metadata": {},
   "source": [
    "## Evaluando K=3 usando GMM"
   ]
  },
  {
   "cell_type": "code",
   "execution_count": 23,
   "metadata": {},
   "outputs": [
    {
     "data": {
      "image/png": "[encoded data removed]",
      "text/plain": [
       "<Figure size 432x288 with 1 Axes>"
      ]
     },
     "metadata": {
      "needs_background": "light"
     },
     "output_type": "display_data"
    }
   ],
   "source": [
    "calcularGMM(3)"
   ]
  },
  {
   "cell_type": "markdown",
   "metadata": {},
   "source": [
    "## Evaluando K=4 usando GMM"
   ]
  },
  {
   "cell_type": "code",
   "execution_count": 24,
   "metadata": {},
   "outputs": [
    {
     "data": {
      "image/png": "[encoded data removed]",
      "text/plain": [
       "<Figure size 432x288 with 1 Axes>"
      ]
     },
     "metadata": {
      "needs_background": "light"
     },
     "output_type": "display_data"
    }
   ],
   "source": [
    "calcularGMM(4)"
   ]
  },
  {
   "cell_type": "markdown",
   "metadata": {},
   "source": [
    "## Evaluando K=5 usando GMM"
   ]
  },
  {
   "cell_type": "code",
   "execution_count": 25,
   "metadata": {},
   "outputs": [
    {
     "name": "stdout",
     "output_type": "stream",
     "text": [
      "Se hace la observación que la siguiente ejecución presenta error, se ha dejado para mostrar el comportamiento del algoritmo\n"
     ]
    },
    {
     "ename": "IndexError",
     "evalue": "list index out of range",
     "output_type": "error",
     "traceback": [
      "\u001b[1;31m---------------------------------------------------------------------------\u001b[0m",
      "\u001b[1;31mIndexError\u001b[0m                                Traceback (most recent call last)",
      "\u001b[1;32m<ipython-input-25-617a8ba36c00>\u001b[0m in \u001b[0;36m<module>\u001b[1;34m\u001b[0m\n\u001b[0;32m      1\u001b[0m \u001b[0mprint\u001b[0m\u001b[1;33m(\u001b[0m\u001b[1;34m\"Se hace la observación que la siguiente ejecución presenta error, se ha dejado para mostrar el comportamiento del algoritmo\"\u001b[0m\u001b[1;33m)\u001b[0m\u001b[1;33m\u001b[0m\u001b[1;33m\u001b[0m\u001b[0m\n\u001b[1;32m----> 2\u001b[1;33m \u001b[0mcalcularGMM\u001b[0m\u001b[1;33m(\u001b[0m\u001b[1;36m5\u001b[0m\u001b[1;33m)\u001b[0m\u001b[1;33m\u001b[0m\u001b[1;33m\u001b[0m\u001b[0m\n\u001b[0m",
      "\u001b[1;32m<ipython-input-20-8afcc7b5ce7b>\u001b[0m in \u001b[0;36mcalcularGMM\u001b[1;34m(K, data)\u001b[0m\n\u001b[0;32m     16\u001b[0m     \u001b[1;32mfor\u001b[0m \u001b[0mk\u001b[0m \u001b[1;32min\u001b[0m \u001b[0mrange\u001b[0m\u001b[1;33m(\u001b[0m\u001b[1;36m0\u001b[0m\u001b[1;33m,\u001b[0m\u001b[0mK\u001b[0m\u001b[1;33m)\u001b[0m\u001b[1;33m:\u001b[0m\u001b[1;33m\u001b[0m\u001b[1;33m\u001b[0m\u001b[0m\n\u001b[0;32m     17\u001b[0m         \u001b[0mdata\u001b[0m \u001b[1;33m=\u001b[0m \u001b[0mframe\u001b[0m\u001b[1;33m[\u001b[0m\u001b[0mframe\u001b[0m\u001b[1;33m[\u001b[0m\u001b[1;34m\"cluster\"\u001b[0m\u001b[1;33m]\u001b[0m\u001b[1;33m==\u001b[0m\u001b[0mk\u001b[0m\u001b[1;33m]\u001b[0m\u001b[1;33m\u001b[0m\u001b[1;33m\u001b[0m\u001b[0m\n\u001b[1;32m---> 18\u001b[1;33m         \u001b[0mplt\u001b[0m\u001b[1;33m.\u001b[0m\u001b[0mscatter\u001b[0m\u001b[1;33m(\u001b[0m\u001b[0mdata\u001b[0m\u001b[1;33m[\u001b[0m\u001b[1;34m\"Height\"\u001b[0m\u001b[1;33m]\u001b[0m\u001b[1;33m,\u001b[0m\u001b[0mdata\u001b[0m\u001b[1;33m[\u001b[0m\u001b[1;34m\"Weight\"\u001b[0m\u001b[1;33m]\u001b[0m\u001b[1;33m,\u001b[0m\u001b[0mc\u001b[0m\u001b[1;33m=\u001b[0m\u001b[0mcolor\u001b[0m\u001b[1;33m[\u001b[0m\u001b[0mk\u001b[0m\u001b[1;33m]\u001b[0m\u001b[1;33m)\u001b[0m\u001b[1;33m\u001b[0m\u001b[1;33m\u001b[0m\u001b[0m\n\u001b[0m\u001b[0;32m     19\u001b[0m     \u001b[0mplt\u001b[0m\u001b[1;33m.\u001b[0m\u001b[0mshow\u001b[0m\u001b[1;33m(\u001b[0m\u001b[1;33m)\u001b[0m\u001b[1;33m\u001b[0m\u001b[1;33m\u001b[0m\u001b[0m\n",
      "\u001b[1;31mIndexError\u001b[0m: list index out of range"
     ]
    },
    {
     "data": {
      "image/png": "[encoded data removed]",
      "text/plain": [
       "<Figure size 432x288 with 1 Axes>"
      ]
     },
     "metadata": {
      "needs_background": "light"
     },
     "output_type": "display_data"
    }
   ],
   "source": [
    "print(\"Se hace la observación que la siguiente ejecución presenta error, se ha dejado para mostrar el comportamiento del algoritmo\")\n",
    "calcularGMM(5)"
   ]
  },
  {
   "cell_type": "markdown",
   "metadata": {},
   "source": [
    "# Conclusiones  \n",
    "\n",
    "    1. Evaluando los modelos con KMeans y GMM, se concluye que los resultados son muy similares.\n",
    "    2. Llama la atención que al evaluar con K=5, se presentan errores tanto en GMM y en Kmeans.\n",
    "    3. Ambos algoritmos son buenos clasificadores.\n",
    "    4. Respecto al problema expuesto de estaturas, se pueden tener varias categorías, por ejemplo con 2 categorías se puede interpretar que la mayoría de estudiantes están entre los 22 y 24 años de edad, con una estatura variada.\n",
    "    5. Se observan valores atípicos, como un valor de 40 años o una estatura muy baja.\n",
    "    6. A mi criterio el método del codo si es funcional ya que se observa en las graficas que la curva comienza a estabilizarse a partir de ciertas iteraciones, donde el resultado de la cantidad de grupo muestra los mismos resultados, según observaciones, con k=2 y k=3 se aprecia bien el método del codo."
   ]
  }
 ],
 "metadata": {
  "kernelspec": {
   "display_name": "Python 3",
   "language": "python",
   "name": "python3"
  },
  "language_info": {
   "codemirror_mode": {
    "name": "ipython",
    "version": 3
   },
   "file_extension": ".py",
   "mimetype": "text/x-python",
   "name": "python",
   "nbconvert_exporter": "python",
   "pygments_lexer": "ipython3",
   "version": "3.7.1"
  }
 },
 "nbformat": 4,
 "nbformat_minor": 2
}
